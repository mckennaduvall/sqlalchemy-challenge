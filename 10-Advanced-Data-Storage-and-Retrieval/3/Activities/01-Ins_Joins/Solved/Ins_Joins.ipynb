{
 "cells": [
  {
   "cell_type": "markdown",
   "metadata": {},
   "source": [
    "# SQLAlchemy Joins"
   ]
  },
  {
   "cell_type": "markdown",
   "metadata": {},
   "source": [
    "## Setup"
   ]
  },
  {
   "cell_type": "code",
   "execution_count": 1,
   "metadata": {},
   "outputs": [],
   "source": [
    "# Python SQL toolkit and Object Relational Mapper\n",
    "import sqlalchemy\n",
    "from sqlalchemy.ext.automap import automap_base\n",
    "from sqlalchemy.orm import Session\n",
    "from sqlalchemy import create_engine, inspect"
   ]
  },
  {
   "cell_type": "code",
   "execution_count": 2,
   "metadata": {},
   "outputs": [],
   "source": [
    "engine = create_engine(\"sqlite:///../Resources/mammal_masses.sqlite\", echo=False)"
   ]
  },
  {
   "cell_type": "code",
   "execution_count": 3,
   "metadata": {},
   "outputs": [
    {
     "data": {
      "text/plain": [
       "['ea', 'na']"
      ]
     },
     "execution_count": 3,
     "metadata": {},
     "output_type": "execute_result"
    }
   ],
   "source": [
    "# Reflect Database into ORM classes\n",
    "Base = automap_base()\n",
    "Base.prepare(engine, reflect=True)\n",
    "Base.classes.keys()"
   ]
  },
  {
   "cell_type": "code",
   "execution_count": 4,
   "metadata": {},
   "outputs": [],
   "source": [
    "# Map Europe class\n",
    "EA = Base.classes.ea"
   ]
  },
  {
   "cell_type": "code",
   "execution_count": 5,
   "metadata": {},
   "outputs": [],
   "source": [
    "# Map North American class\n",
    "NA = Base.classes.na"
   ]
  },
  {
   "cell_type": "code",
   "execution_count": 9,
   "metadata": {},
   "outputs": [],
   "source": [
    "# create a session\n",
    "session = Session(engine)"
   ]
  },
  {
   "cell_type": "markdown",
   "metadata": {},
   "source": [
    "## Filtering Review"
   ]
  },
  {
   "cell_type": "markdown",
   "metadata": {
    "collapsed": true
   },
   "source": [
    "Filters are the \"WHERE\" clause for your select statement. "
   ]
  },
  {
   "cell_type": "code",
   "execution_count": 22,
   "metadata": {},
   "outputs": [
    {
     "data": {
      "text/plain": [
       "{'_sa_instance_state': <sqlalchemy.orm.state.InstanceState at 0x108780fd0>,\n",
       " 'id': 1,\n",
       " 'comb_mass_g': 46082.9,\n",
       " 'species': 'americana',\n",
       " 'family': 'Antilocapridae',\n",
       " 'sporder': 'Artiodactyla',\n",
       " 'continent': None,\n",
       " 'reference': '60',\n",
       " 'log_mass_g': 4.66,\n",
       " 'genus': 'Antilocapra',\n",
       " 'status': 'extant',\n",
       " 'record_id': 3898}"
      ]
     },
     "execution_count": 22,
     "metadata": {},
     "output_type": "execute_result"
    }
   ],
   "source": [
    "tmp = session.query(NA).first()\n",
    "tmp.__dict__"
   ]
  },
  {
   "cell_type": "code",
   "execution_count": 23,
   "metadata": {},
   "outputs": [
    {
     "name": "stdout",
     "output_type": "stream",
     "text": [
      "Family: Antilocapridae, Genus: Antilocapra\n"
     ]
    }
   ],
   "source": [
    "# filter North American mammals whose genus is \"Antilocapra\"\n",
    "# query, loop over and print out animals.\n",
    "mammals = session.query(NA).filter(NA.genus == 'Antilocapra').all()\n",
    "for mammal in mammals:\n",
    "    print(f\"Family: {mammal.family}, Genus: {mammal.genus}\")"
   ]
  },
  {
   "cell_type": "markdown",
   "metadata": {},
   "source": [
    "## Joins"
   ]
  },
  {
   "cell_type": "markdown",
   "metadata": {
    "collapsed": true
   },
   "source": [
    "A SQL join combines columns from one or more tables in a relational database. \n",
    "\n",
    "It creates a set that can be saved as a table or used as it is. \n",
    "\n",
    "A JOIN is a means for combining columns from one (self-table) or more tables by using values common to each."
   ]
  },
  {
   "cell_type": "code",
   "execution_count": 24,
   "metadata": {},
   "outputs": [
    {
     "data": {
      "text/plain": [
       "['ea', 'na']"
      ]
     },
     "execution_count": 24,
     "metadata": {},
     "output_type": "execute_result"
    }
   ],
   "source": [
    "inspector = inspect(engine)\n",
    "inspector.get_table_names()"
   ]
  },
  {
   "cell_type": "code",
   "execution_count": 27,
   "metadata": {
    "scrolled": true
   },
   "outputs": [
    {
     "name": "stdout",
     "output_type": "stream",
     "text": [
      "id INTEGER\n",
      "record_id INTEGER\n",
      "continent TEXT\n",
      "status TEXT\n",
      "sporder TEXT\n",
      "family TEXT\n",
      "genus TEXT\n",
      "species TEXT\n",
      "log_mass_g FLOAT\n",
      "comb_mass_g FLOAT\n",
      "reference TEXT\n"
     ]
    }
   ],
   "source": [
    "# Get a list of column names and types\n",
    "columns = inspector.get_columns('ea')\n",
    "for c in columns:\n",
    "    print(c['name'], c[\"type\"])"
   ]
  },
  {
   "cell_type": "code",
   "execution_count": 28,
   "metadata": {
    "scrolled": false
   },
   "outputs": [
    {
     "data": {
      "text/plain": [
       "[('Artiodactyla', 'Artiodactyla'),\n",
       " ('Artiodactyla', 'Artiodactyla'),\n",
       " ('Artiodactyla', 'Artiodactyla'),\n",
       " ('Artiodactyla', 'Artiodactyla'),\n",
       " ('Artiodactyla', 'Artiodactyla'),\n",
       " ('Artiodactyla', 'Artiodactyla'),\n",
       " ('Artiodactyla', 'Artiodactyla'),\n",
       " ('Artiodactyla', 'Artiodactyla'),\n",
       " ('Artiodactyla', 'Artiodactyla'),\n",
       " ('Artiodactyla', 'Artiodactyla'),\n",
       " ('Artiodactyla', 'Artiodactyla'),\n",
       " ('Artiodactyla', 'Artiodactyla'),\n",
       " ('Artiodactyla', 'Artiodactyla'),\n",
       " ('Artiodactyla', 'Artiodactyla'),\n",
       " ('Artiodactyla', 'Artiodactyla'),\n",
       " ('Artiodactyla', 'Artiodactyla'),\n",
       " ('Artiodactyla', 'Artiodactyla'),\n",
       " ('Artiodactyla', 'Artiodactyla'),\n",
       " ('Artiodactyla', 'Artiodactyla'),\n",
       " ('Artiodactyla', 'Artiodactyla'),\n",
       " ('Artiodactyla', 'Artiodactyla'),\n",
       " ('Artiodactyla', 'Artiodactyla'),\n",
       " ('Artiodactyla', 'Artiodactyla'),\n",
       " ('Artiodactyla', 'Artiodactyla'),\n",
       " ('Artiodactyla', 'Artiodactyla'),\n",
       " ('Artiodactyla', 'Artiodactyla'),\n",
       " ('Artiodactyla', 'Artiodactyla'),\n",
       " ('Artiodactyla', 'Artiodactyla'),\n",
       " ('Artiodactyla', 'Artiodactyla'),\n",
       " ('Artiodactyla', 'Artiodactyla'),\n",
       " ('Artiodactyla', 'Artiodactyla'),\n",
       " ('Artiodactyla', 'Artiodactyla'),\n",
       " ('Artiodactyla', 'Artiodactyla'),\n",
       " ('Artiodactyla', 'Artiodactyla'),\n",
       " ('Artiodactyla', 'Artiodactyla'),\n",
       " ('Artiodactyla', 'Artiodactyla'),\n",
       " ('Artiodactyla', 'Carnivora'),\n",
       " ('Artiodactyla', 'Carnivora'),\n",
       " ('Artiodactyla', 'Carnivora'),\n",
       " ('Artiodactyla', 'Carnivora'),\n",
       " ('Artiodactyla', 'Carnivora'),\n",
       " ('Artiodactyla', 'Carnivora'),\n",
       " ('Artiodactyla', 'Carnivora'),\n",
       " ('Artiodactyla', 'Carnivora'),\n",
       " ('Artiodactyla', 'Carnivora'),\n",
       " ('Artiodactyla', 'Carnivora'),\n",
       " ('Artiodactyla', 'Carnivora'),\n",
       " ('Artiodactyla', 'Carnivora'),\n",
       " ('Artiodactyla', 'Carnivora'),\n",
       " ('Artiodactyla', 'Carnivora'),\n",
       " ('Artiodactyla', 'Carnivora'),\n",
       " ('Artiodactyla', 'Carnivora'),\n",
       " ('Artiodactyla', 'Carnivora'),\n",
       " ('Artiodactyla', 'Carnivora'),\n",
       " ('Artiodactyla', 'Carnivora'),\n",
       " ('Artiodactyla', 'Carnivora'),\n",
       " ('Artiodactyla', 'Carnivora'),\n",
       " ('Artiodactyla', 'Carnivora'),\n",
       " ('Artiodactyla', 'Carnivora'),\n",
       " ('Artiodactyla', 'Carnivora'),\n",
       " ('Artiodactyla', 'Carnivora'),\n",
       " ('Artiodactyla', 'Carnivora'),\n",
       " ('Artiodactyla', 'Carnivora'),\n",
       " ('Artiodactyla', 'Carnivora'),\n",
       " ('Artiodactyla', 'Carnivora'),\n",
       " ('Artiodactyla', 'Carnivora'),\n",
       " ('Artiodactyla', 'Carnivora'),\n",
       " ('Artiodactyla', 'Carnivora'),\n",
       " ('Artiodactyla', 'Carnivora'),\n",
       " ('Artiodactyla', 'Carnivora'),\n",
       " ('Artiodactyla', 'Carnivora'),\n",
       " ('Artiodactyla', 'Carnivora'),\n",
       " ('Artiodactyla', 'Carnivora'),\n",
       " ('Artiodactyla', 'Carnivora'),\n",
       " ('Artiodactyla', 'Carnivora'),\n",
       " ('Artiodactyla', 'Carnivora'),\n",
       " ('Artiodactyla', 'Carnivora'),\n",
       " ('Artiodactyla', 'Carnivora'),\n",
       " ('Artiodactyla', 'Carnivora'),\n",
       " ('Artiodactyla', 'Carnivora'),\n",
       " ('Artiodactyla', 'Carnivora'),\n",
       " ('Artiodactyla', 'Carnivora'),\n",
       " ('Artiodactyla', 'Carnivora'),\n",
       " ('Artiodactyla', 'Carnivora'),\n",
       " ('Artiodactyla', 'Carnivora'),\n",
       " ('Artiodactyla', 'Carnivora'),\n",
       " ('Artiodactyla', 'Carnivora'),\n",
       " ('Artiodactyla', 'Carnivora'),\n",
       " ('Artiodactyla', 'Carnivora'),\n",
       " ('Artiodactyla', 'Carnivora'),\n",
       " ('Artiodactyla', 'Carnivora'),\n",
       " ('Artiodactyla', 'Carnivora'),\n",
       " ('Artiodactyla', 'Carnivora'),\n",
       " ('Artiodactyla', 'Carnivora'),\n",
       " ('Artiodactyla', 'Carnivora'),\n",
       " ('Artiodactyla', 'Carnivora'),\n",
       " ('Artiodactyla', 'Carnivora'),\n",
       " ('Artiodactyla', 'Carnivora'),\n",
       " ('Artiodactyla', 'Carnivora'),\n",
       " ('Artiodactyla', 'Carnivora')]"
      ]
     },
     "execution_count": 28,
     "metadata": {},
     "output_type": "execute_result"
    }
   ],
   "source": [
    "session.query(EA.sporder, NA.sporder).limit(100).all()"
   ]
  },
  {
   "cell_type": "code",
   "execution_count": 34,
   "metadata": {},
   "outputs": [
    {
     "name": "stdout",
     "output_type": "stream",
     "text": [
      "{'_sa_instance_state': <sqlalchemy.orm.state.InstanceState object at 0x10d02ed30>, 'continent': 'EA', 'id': 1, 'reference': '68', 'comb_mass_g': 37500.0, 'species': 'cervicapra', 'family': 'Bovidae', 'status': 'extant', 'record_id': 1381, 'log_mass_g': 4.57, 'genus': 'Antilope', 'sporder': 'Artiodactyla'}\n",
      "{'_sa_instance_state': <sqlalchemy.orm.state.InstanceState object at 0x108780fd0>, 'id': 1, 'comb_mass_g': 46082.9, 'species': 'americana', 'family': 'Antilocapridae', 'sporder': 'Artiodactyla', 'continent': None, 'reference': '60', 'log_mass_g': 4.66, 'genus': 'Antilocapra', 'status': 'extant', 'record_id': 3898}\n",
      "{'_sa_instance_state': <sqlalchemy.orm.state.InstanceState object at 0x10d02ed30>, 'continent': 'EA', 'id': 1, 'reference': '68', 'comb_mass_g': 37500.0, 'species': 'cervicapra', 'family': 'Bovidae', 'status': 'extant', 'record_id': 1381, 'log_mass_g': 4.57, 'genus': 'Antilope', 'sporder': 'Artiodactyla'}\n",
      "{'_sa_instance_state': <sqlalchemy.orm.state.InstanceState object at 0x108494080>, 'id': 2, 'comb_mass_g': 10000, 'species': 'minor', 'family': 'Antilocapridae', 'sporder': 'Artiodactyla', 'continent': None, 'reference': '1, 23', 'log_mass_g': 4, 'genus': 'Capromeryx', 'status': 'extinct', 'record_id': 3899}\n",
      "{'_sa_instance_state': <sqlalchemy.orm.state.InstanceState object at 0x10d02ed30>, 'continent': 'EA', 'id': 1, 'reference': '68', 'comb_mass_g': 37500.0, 'species': 'cervicapra', 'family': 'Bovidae', 'status': 'extant', 'record_id': 1381, 'log_mass_g': 4.57, 'genus': 'Antilope', 'sporder': 'Artiodactyla'}\n",
      "{'_sa_instance_state': <sqlalchemy.orm.state.InstanceState object at 0x1084940f0>, 'id': 3, 'comb_mass_g': 15000, 'species': 'mexicana', 'family': 'Antilocapridae', 'sporder': 'Artiodactyla', 'continent': None, 'reference': '24, 25', 'log_mass_g': 4.18, 'genus': 'Capromeryx', 'status': 'extinct', 'record_id': 3900}\n",
      "{'_sa_instance_state': <sqlalchemy.orm.state.InstanceState object at 0x10d02ed30>, 'continent': 'EA', 'id': 1, 'reference': '68', 'comb_mass_g': 37500.0, 'species': 'cervicapra', 'family': 'Bovidae', 'status': 'extant', 'record_id': 1381, 'log_mass_g': 4.57, 'genus': 'Antilope', 'sporder': 'Artiodactyla'}\n",
      "{'_sa_instance_state': <sqlalchemy.orm.state.InstanceState object at 0x108494160>, 'id': 4, 'comb_mass_g': 51000, 'species': 'conklingi', 'family': 'Antilocapridae', 'sporder': 'Artiodactyla', 'continent': None, 'reference': '27', 'log_mass_g': 4.71, 'genus': 'Stockoceros', 'status': 'extinct', 'record_id': 3901}\n",
      "{'_sa_instance_state': <sqlalchemy.orm.state.InstanceState object at 0x10d02ed30>, 'continent': 'EA', 'id': 1, 'reference': '68', 'comb_mass_g': 37500.0, 'species': 'cervicapra', 'family': 'Bovidae', 'status': 'extant', 'record_id': 1381, 'log_mass_g': 4.57, 'genus': 'Antilope', 'sporder': 'Artiodactyla'}\n",
      "{'_sa_instance_state': <sqlalchemy.orm.state.InstanceState object at 0x1084941d0>, 'id': 5, 'comb_mass_g': 55000, 'species': 'onusrosagris', 'family': 'Antilocapridae', 'sporder': 'Artiodactyla', 'continent': None, 'reference': '27', 'log_mass_g': 4.74, 'genus': 'Stockoceros', 'status': 'extinct', 'record_id': 3902}\n",
      "{'_sa_instance_state': <sqlalchemy.orm.state.InstanceState object at 0x10d02ed30>, 'continent': 'EA', 'id': 1, 'reference': '68', 'comb_mass_g': 37500.0, 'species': 'cervicapra', 'family': 'Bovidae', 'status': 'extant', 'record_id': 1381, 'log_mass_g': 4.57, 'genus': 'Antilope', 'sporder': 'Artiodactyla'}\n",
      "{'_sa_instance_state': <sqlalchemy.orm.state.InstanceState object at 0x108494240>, 'id': 6, 'comb_mass_g': 60000, 'species': 'shuleri', 'family': 'Antilocapridae', 'sporder': 'Artiodactyla', 'continent': None, 'reference': '24, 26', 'log_mass_g': 4.78, 'genus': 'Tetrameryx', 'status': 'extinct', 'record_id': 3903}\n",
      "{'_sa_instance_state': <sqlalchemy.orm.state.InstanceState object at 0x10d02ed30>, 'continent': 'EA', 'id': 1, 'reference': '68', 'comb_mass_g': 37500.0, 'species': 'cervicapra', 'family': 'Bovidae', 'status': 'extant', 'record_id': 1381, 'log_mass_g': 4.57, 'genus': 'Antilope', 'sporder': 'Artiodactyla'}\n",
      "{'_sa_instance_state': <sqlalchemy.orm.state.InstanceState object at 0x1084942b0>, 'id': 7, 'comb_mass_g': 579255.3, 'species': 'bison', 'family': 'Bovidae', 'sporder': 'Artiodactyla', 'continent': None, 'reference': '60', 'log_mass_g': 5.76, 'genus': 'Bison', 'status': 'extant', 'record_id': 3904}\n",
      "{'_sa_instance_state': <sqlalchemy.orm.state.InstanceState object at 0x10d02ed30>, 'continent': 'EA', 'id': 1, 'reference': '68', 'comb_mass_g': 37500.0, 'species': 'cervicapra', 'family': 'Bovidae', 'status': 'extant', 'record_id': 1381, 'log_mass_g': 4.57, 'genus': 'Antilope', 'sporder': 'Artiodactyla'}\n",
      "{'_sa_instance_state': <sqlalchemy.orm.state.InstanceState object at 0x108494320>, 'id': 8, 'comb_mass_g': 900000, 'species': 'latifrons', 'family': 'Bovidae', 'sporder': 'Artiodactyla', 'continent': None, 'reference': '58', 'log_mass_g': 5.95, 'genus': 'Bison', 'status': 'extinct', 'record_id': 3905}\n",
      "{'_sa_instance_state': <sqlalchemy.orm.state.InstanceState object at 0x10d02ed30>, 'continent': 'EA', 'id': 1, 'reference': '68', 'comb_mass_g': 37500.0, 'species': 'cervicapra', 'family': 'Bovidae', 'status': 'extant', 'record_id': 1381, 'log_mass_g': 4.57, 'genus': 'Antilope', 'sporder': 'Artiodactyla'}\n",
      "{'_sa_instance_state': <sqlalchemy.orm.state.InstanceState object at 0x108494390>, 'id': 9, 'comb_mass_g': 900000, 'species': 'priscus', 'family': 'Bovidae', 'sporder': 'Artiodactyla', 'continent': None, 'reference': '24, 58, 112', 'log_mass_g': 5.95, 'genus': 'Bison', 'status': 'extinct', 'record_id': 3906}\n",
      "{'_sa_instance_state': <sqlalchemy.orm.state.InstanceState object at 0x10d02ed30>, 'continent': 'EA', 'id': 1, 'reference': '68', 'comb_mass_g': 37500.0, 'species': 'cervicapra', 'family': 'Bovidae', 'status': 'extant', 'record_id': 1381, 'log_mass_g': 4.57, 'genus': 'Antilope', 'sporder': 'Artiodactyla'}\n",
      "{'_sa_instance_state': <sqlalchemy.orm.state.InstanceState object at 0x108494400>, 'id': 10, 'comb_mass_g': 300000, 'species': 'bombifrons', 'family': 'Bovidae', 'sporder': 'Artiodactyla', 'continent': None, 'reference': '26, 28', 'log_mass_g': 5.48, 'genus': 'Bootherium', 'status': 'extinct', 'record_id': 3907}\n"
     ]
    }
   ],
   "source": [
    "same_sporder = session.query(EA, NA).filter(EA.sporder == NA.sporder).limit(10).all()\n",
    "\n",
    "for record in same_sporder:\n",
    "    (ea, na) = record\n",
    "    print(ea.__dict__)\n",
    "    print(na.__dict__)"
   ]
  },
  {
   "cell_type": "code",
   "execution_count": 36,
   "metadata": {},
   "outputs": [
    {
     "name": "stdout",
     "output_type": "stream",
     "text": [
      "The European animal 'Bovidae Antilope cervicapra'belongs to the same sporder as the North American animal 'Antilocapridae Antilocapra americana'.\n",
      "The European animal 'Bovidae Antilope cervicapra'belongs to the same sporder as the North American animal 'Antilocapridae Capromeryx mexicana'.\n",
      "The European animal 'Bovidae Antilope cervicapra'belongs to the same sporder as the North American animal 'Antilocapridae Capromeryx minor'.\n",
      "The European animal 'Bovidae Antilope cervicapra'belongs to the same sporder as the North American animal 'Antilocapridae Stockoceros conklingi'.\n",
      "The European animal 'Bovidae Antilope cervicapra'belongs to the same sporder as the North American animal 'Antilocapridae Stockoceros onusrosagris'.\n",
      "The European animal 'Bovidae Antilope cervicapra'belongs to the same sporder as the North American animal 'Antilocapridae Tetrameryx shuleri'.\n",
      "The European animal 'Bovidae Antilope cervicapra'belongs to the same sporder as the North American animal 'Bovidae Bison bison'.\n",
      "The European animal 'Bovidae Antilope cervicapra'belongs to the same sporder as the North American animal 'Bovidae Bison latifrons'.\n",
      "The European animal 'Bovidae Antilope cervicapra'belongs to the same sporder as the North American animal 'Bovidae Bison priscus'.\n",
      "The European animal 'Bovidae Antilope cervicapra'belongs to the same sporder as the North American animal 'Bovidae Bootherium bombifrons'.\n"
     ]
    }
   ],
   "source": [
    "# Return all animals from EA and NA belonging to the same sporder.\n",
    "# This JOINs the data in the two tables together into a single dataset (here in the form of a tuple).\n",
    "# Note: We are going to limit the results to 10 for printing\n",
    "sel = [EA.family, EA.genus, EA.species, NA.family, NA.genus, NA.species]\n",
    "same_sporder = session.query(*sel).filter(EA.sporder == NA.sporder).limit(10).all()\n",
    "\n",
    "for record in same_sporder:\n",
    "    (ea_fam, ea_gen, ea_spec, na_fam, na_gen, na_spec) = record\n",
    "    print(\n",
    "        f\"The European animal '{ea_fam} {ea_gen} {ea_spec}'\"\n",
    "        f\"belongs to the same sporder as the North American animal '{na_fam} {na_gen} {na_spec}'.\")"
   ]
  },
  {
   "cell_type": "code",
   "execution_count": null,
   "metadata": {},
   "outputs": [],
   "source": []
  }
 ],
 "metadata": {
  "kernelspec": {
   "display_name": "Python 3",
   "language": "python",
   "name": "python3"
  },
  "language_info": {
   "codemirror_mode": {
    "name": "ipython",
    "version": 3
   },
   "file_extension": ".py",
   "mimetype": "text/x-python",
   "name": "python",
   "nbconvert_exporter": "python",
   "pygments_lexer": "ipython3",
   "version": "3.6.8"
  },
  "varInspector": {
   "cols": {
    "lenName": 16,
    "lenType": 16,
    "lenVar": 40
   },
   "kernels_config": {
    "python": {
     "delete_cmd_postfix": "",
     "delete_cmd_prefix": "del ",
     "library": "var_list.py",
     "varRefreshCmd": "print(var_dic_list())"
    },
    "r": {
     "delete_cmd_postfix": ") ",
     "delete_cmd_prefix": "rm(",
     "library": "var_list.r",
     "varRefreshCmd": "cat(var_dic_list()) "
    }
   },
   "types_to_exclude": [
    "module",
    "function",
    "builtin_function_or_method",
    "instance",
    "_Feature"
   ],
   "window_display": false
  }
 },
 "nbformat": 4,
 "nbformat_minor": 2
}
