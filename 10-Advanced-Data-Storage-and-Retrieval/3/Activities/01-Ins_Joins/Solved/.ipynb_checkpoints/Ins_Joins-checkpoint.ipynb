{
 "cells": [
  {
   "cell_type": "markdown",
   "metadata": {},
   "source": [
    "# SQLAlchemy Joins"
   ]
  },
  {
   "cell_type": "markdown",
   "metadata": {},
   "source": [
    "## Setup"
   ]
  },
  {
   "cell_type": "code",
   "execution_count": 1,
   "metadata": {},
   "outputs": [],
   "source": [
    "# Python SQL toolkit and Object Relational Mapper\n",
    "import sqlalchemy\n",
    "from sqlalchemy.ext.automap import automap_base\n",
    "from sqlalchemy.orm import Session\n",
    "from sqlalchemy import create_engine, inspect"
   ]
  },
  {
   "cell_type": "code",
   "execution_count": 2,
   "metadata": {},
   "outputs": [],
   "source": [
    "engine = create_engine(\"sqlite:///../Resources/mammal_masses.sqlite\", echo=False)"
   ]
  },
  {
   "cell_type": "code",
   "execution_count": 3,
   "metadata": {},
   "outputs": [
    {
     "data": {
      "text/plain": [
       "['ea', 'na']"
      ]
     },
     "execution_count": 3,
     "metadata": {},
     "output_type": "execute_result"
    }
   ],
   "source": [
    "# Reflect Database into ORM classes\n",
    "Base = automap_base()\n",
    "Base.prepare(engine, reflect=True)\n",
    "Base.classes.keys()"
   ]
  },
  {
   "cell_type": "code",
   "execution_count": 4,
   "metadata": {},
   "outputs": [],
   "source": [
    "# Map Europe class\n",
    "EA = Base.classes.ea"
   ]
  },
  {
   "cell_type": "code",
   "execution_count": 5,
   "metadata": {},
   "outputs": [],
   "source": [
    "# Map North American class\n",
    "NA = Base.classes.na"
   ]
  },
  {
   "cell_type": "code",
   "execution_count": 9,
   "metadata": {},
   "outputs": [],
   "source": [
    "# create a session\n",
    "session = Session(engine)"
   ]
  },
  {
   "cell_type": "markdown",
   "metadata": {},
   "source": [
    "## Filtering Review"
   ]
  },
  {
   "cell_type": "markdown",
   "metadata": {
    "collapsed": true
   },
   "source": [
    "Filters are the \"WHERE\" clause for your select statement. "
   ]
  },
  {
   "cell_type": "code",
   "execution_count": 13,
   "metadata": {},
   "outputs": [
    {
     "name": "stdout",
     "output_type": "stream",
     "text": [
      "[<sqlalchemy.ext.automap.na object at 0x108780f98>, <sqlalchemy.ext.automap.na object at 0x108494048>, <sqlalchemy.ext.automap.na object at 0x1084940b8>, <sqlalchemy.ext.automap.na object at 0x108494128>, <sqlalchemy.ext.automap.na object at 0x108494198>, <sqlalchemy.ext.automap.na object at 0x108494208>, <sqlalchemy.ext.automap.na object at 0x108494278>, <sqlalchemy.ext.automap.na object at 0x1084942e8>, <sqlalchemy.ext.automap.na object at 0x108494358>, <sqlalchemy.ext.automap.na object at 0x1084943c8>, <sqlalchemy.ext.automap.na object at 0x108494438>, <sqlalchemy.ext.automap.na object at 0x1084944a8>, <sqlalchemy.ext.automap.na object at 0x108494518>, <sqlalchemy.ext.automap.na object at 0x108494588>, <sqlalchemy.ext.automap.na object at 0x1084945f8>, <sqlalchemy.ext.automap.na object at 0x108494668>, <sqlalchemy.ext.automap.na object at 0x1084946d8>, <sqlalchemy.ext.automap.na object at 0x108494748>, <sqlalchemy.ext.automap.na object at 0x1084947b8>, <sqlalchemy.ext.automap.na object at 0x108494828>, <sqlalchemy.ext.automap.na object at 0x108494898>, <sqlalchemy.ext.automap.na object at 0x108494908>, <sqlalchemy.ext.automap.na object at 0x108494978>, <sqlalchemy.ext.automap.na object at 0x1084949e8>, <sqlalchemy.ext.automap.na object at 0x108494a58>, <sqlalchemy.ext.automap.na object at 0x108494ac8>, <sqlalchemy.ext.automap.na object at 0x108494b38>, <sqlalchemy.ext.automap.na object at 0x108494ba8>, <sqlalchemy.ext.automap.na object at 0x108494c18>, <sqlalchemy.ext.automap.na object at 0x108494c88>, <sqlalchemy.ext.automap.na object at 0x108494cf8>, <sqlalchemy.ext.automap.na object at 0x108494d68>, <sqlalchemy.ext.automap.na object at 0x108494dd8>, <sqlalchemy.ext.automap.na object at 0x108494e48>, <sqlalchemy.ext.automap.na object at 0x108494eb8>, <sqlalchemy.ext.automap.na object at 0x108494f28>, <sqlalchemy.ext.automap.na object at 0x108494f98>, <sqlalchemy.ext.automap.na object at 0x1084a7048>, <sqlalchemy.ext.automap.na object at 0x1084a70b8>, <sqlalchemy.ext.automap.na object at 0x1084a7128>, <sqlalchemy.ext.automap.na object at 0x1084a7198>, <sqlalchemy.ext.automap.na object at 0x1084a7208>, <sqlalchemy.ext.automap.na object at 0x1084a7278>, <sqlalchemy.ext.automap.na object at 0x1084a72e8>, <sqlalchemy.ext.automap.na object at 0x1084a7358>, <sqlalchemy.ext.automap.na object at 0x1084a73c8>, <sqlalchemy.ext.automap.na object at 0x1084a7438>, <sqlalchemy.ext.automap.na object at 0x1084a74a8>, <sqlalchemy.ext.automap.na object at 0x1084a7518>, <sqlalchemy.ext.automap.na object at 0x1084a7588>, <sqlalchemy.ext.automap.na object at 0x1084a75f8>, <sqlalchemy.ext.automap.na object at 0x1084a7668>, <sqlalchemy.ext.automap.na object at 0x1084a76d8>, <sqlalchemy.ext.automap.na object at 0x1084a7748>, <sqlalchemy.ext.automap.na object at 0x1084a77b8>, <sqlalchemy.ext.automap.na object at 0x1084a7860>, <sqlalchemy.ext.automap.na object at 0x1084a7908>, <sqlalchemy.ext.automap.na object at 0x1084a79b0>, <sqlalchemy.ext.automap.na object at 0x1084a7a58>, <sqlalchemy.ext.automap.na object at 0x1084a7b00>, <sqlalchemy.ext.automap.na object at 0x1084a7ba8>, <sqlalchemy.ext.automap.na object at 0x1084a7c50>, <sqlalchemy.ext.automap.na object at 0x1084a7cf8>, <sqlalchemy.ext.automap.na object at 0x1084a7da0>, <sqlalchemy.ext.automap.na object at 0x1084a7e48>, <sqlalchemy.ext.automap.na object at 0x1084a7ef0>, <sqlalchemy.ext.automap.na object at 0x1084a7f98>, <sqlalchemy.ext.automap.na object at 0x10849e080>, <sqlalchemy.ext.automap.na object at 0x10849e128>, <sqlalchemy.ext.automap.na object at 0x10849e1d0>, <sqlalchemy.ext.automap.na object at 0x10849e278>, <sqlalchemy.ext.automap.na object at 0x10849e320>, <sqlalchemy.ext.automap.na object at 0x10849e3c8>, <sqlalchemy.ext.automap.na object at 0x10849e470>, <sqlalchemy.ext.automap.na object at 0x10849e518>, <sqlalchemy.ext.automap.na object at 0x10849e5c0>, <sqlalchemy.ext.automap.na object at 0x10849e668>, <sqlalchemy.ext.automap.na object at 0x10849e710>, <sqlalchemy.ext.automap.na object at 0x10849e7b8>, <sqlalchemy.ext.automap.na object at 0x10849e860>, <sqlalchemy.ext.automap.na object at 0x10849e908>, <sqlalchemy.ext.automap.na object at 0x10849e9b0>, <sqlalchemy.ext.automap.na object at 0x10849ea58>, <sqlalchemy.ext.automap.na object at 0x10849eb00>, <sqlalchemy.ext.automap.na object at 0x10849eba8>, <sqlalchemy.ext.automap.na object at 0x10849ec50>, <sqlalchemy.ext.automap.na object at 0x10849ecf8>, <sqlalchemy.ext.automap.na object at 0x10849eda0>, <sqlalchemy.ext.automap.na object at 0x10849ee48>, <sqlalchemy.ext.automap.na object at 0x10849eef0>, <sqlalchemy.ext.automap.na object at 0x10849ef98>, <sqlalchemy.ext.automap.na object at 0x1084a9080>, <sqlalchemy.ext.automap.na object at 0x1084a9128>, <sqlalchemy.ext.automap.na object at 0x1084a91d0>, <sqlalchemy.ext.automap.na object at 0x1084a9278>, <sqlalchemy.ext.automap.na object at 0x1084a9320>, <sqlalchemy.ext.automap.na object at 0x1084a93c8>, <sqlalchemy.ext.automap.na object at 0x1084a9470>, <sqlalchemy.ext.automap.na object at 0x1084a9518>, <sqlalchemy.ext.automap.na object at 0x1084a95c0>, <sqlalchemy.ext.automap.na object at 0x1084a9668>, <sqlalchemy.ext.automap.na object at 0x1084a9710>, <sqlalchemy.ext.automap.na object at 0x1084a97b8>, <sqlalchemy.ext.automap.na object at 0x1084a9860>, <sqlalchemy.ext.automap.na object at 0x1084a9908>, <sqlalchemy.ext.automap.na object at 0x1084a99b0>, <sqlalchemy.ext.automap.na object at 0x1084a9a58>, <sqlalchemy.ext.automap.na object at 0x1084a9b00>, <sqlalchemy.ext.automap.na object at 0x1084a9ba8>, <sqlalchemy.ext.automap.na object at 0x1084a9c50>, <sqlalchemy.ext.automap.na object at 0x1084a9cf8>, <sqlalchemy.ext.automap.na object at 0x1084a9da0>, <sqlalchemy.ext.automap.na object at 0x1084a9e48>, <sqlalchemy.ext.automap.na object at 0x1084a9ef0>, <sqlalchemy.ext.automap.na object at 0x1084a9f98>, <sqlalchemy.ext.automap.na object at 0x1084bf080>, <sqlalchemy.ext.automap.na object at 0x1084bf128>, <sqlalchemy.ext.automap.na object at 0x1084bf1d0>, <sqlalchemy.ext.automap.na object at 0x1084bf278>, <sqlalchemy.ext.automap.na object at 0x1084bf320>, <sqlalchemy.ext.automap.na object at 0x1084bf3c8>, <sqlalchemy.ext.automap.na object at 0x1084bf470>, <sqlalchemy.ext.automap.na object at 0x1084bf518>, <sqlalchemy.ext.automap.na object at 0x1084bf5c0>, <sqlalchemy.ext.automap.na object at 0x1084bf668>, <sqlalchemy.ext.automap.na object at 0x1084bf710>, <sqlalchemy.ext.automap.na object at 0x1084bf7b8>, <sqlalchemy.ext.automap.na object at 0x1084bf860>, <sqlalchemy.ext.automap.na object at 0x1084bf908>, <sqlalchemy.ext.automap.na object at 0x1084bf9b0>, <sqlalchemy.ext.automap.na object at 0x1084bfa58>, <sqlalchemy.ext.automap.na object at 0x1084bfb00>, <sqlalchemy.ext.automap.na object at 0x1084bfba8>, <sqlalchemy.ext.automap.na object at 0x1084bfc50>, <sqlalchemy.ext.automap.na object at 0x1084bfcf8>, <sqlalchemy.ext.automap.na object at 0x1084bfda0>, <sqlalchemy.ext.automap.na object at 0x1084bfe48>, <sqlalchemy.ext.automap.na object at 0x1084bfef0>, <sqlalchemy.ext.automap.na object at 0x1084bff98>, <sqlalchemy.ext.automap.na object at 0x108e52080>, <sqlalchemy.ext.automap.na object at 0x108e52128>, <sqlalchemy.ext.automap.na object at 0x108e521d0>, <sqlalchemy.ext.automap.na object at 0x108e52278>, <sqlalchemy.ext.automap.na object at 0x108e52320>, <sqlalchemy.ext.automap.na object at 0x108e523c8>, <sqlalchemy.ext.automap.na object at 0x108e52470>, <sqlalchemy.ext.automap.na object at 0x108e52518>, <sqlalchemy.ext.automap.na object at 0x108e525c0>, <sqlalchemy.ext.automap.na object at 0x108e52668>, <sqlalchemy.ext.automap.na object at 0x108e52710>, <sqlalchemy.ext.automap.na object at 0x108e527b8>, <sqlalchemy.ext.automap.na object at 0x108e52860>, <sqlalchemy.ext.automap.na object at 0x108e52908>, <sqlalchemy.ext.automap.na object at 0x108e529b0>, <sqlalchemy.ext.automap.na object at 0x108e52a58>, <sqlalchemy.ext.automap.na object at 0x108e52b00>, <sqlalchemy.ext.automap.na object at 0x108e52ba8>, <sqlalchemy.ext.automap.na object at 0x108e52c50>, <sqlalchemy.ext.automap.na object at 0x108e52cf8>, <sqlalchemy.ext.automap.na object at 0x108e52da0>, <sqlalchemy.ext.automap.na object at 0x108e52e48>, <sqlalchemy.ext.automap.na object at 0x108e52ef0>, <sqlalchemy.ext.automap.na object at 0x108e52f98>, <sqlalchemy.ext.automap.na object at 0x108e58080>, <sqlalchemy.ext.automap.na object at 0x108e58128>, <sqlalchemy.ext.automap.na object at 0x108e581d0>, <sqlalchemy.ext.automap.na object at 0x108e58278>, <sqlalchemy.ext.automap.na object at 0x108e58320>, <sqlalchemy.ext.automap.na object at 0x108e583c8>, <sqlalchemy.ext.automap.na object at 0x108e58470>, <sqlalchemy.ext.automap.na object at 0x108e58518>, <sqlalchemy.ext.automap.na object at 0x108e585c0>, <sqlalchemy.ext.automap.na object at 0x108e58668>, <sqlalchemy.ext.automap.na object at 0x108e58710>, <sqlalchemy.ext.automap.na object at 0x108e587b8>, <sqlalchemy.ext.automap.na object at 0x108e58860>, <sqlalchemy.ext.automap.na object at 0x108e58908>, <sqlalchemy.ext.automap.na object at 0x108e589b0>, <sqlalchemy.ext.automap.na object at 0x108e58a58>, <sqlalchemy.ext.automap.na object at 0x108e58b00>, <sqlalchemy.ext.automap.na object at 0x108e58ba8>, <sqlalchemy.ext.automap.na object at 0x108e58c50>, <sqlalchemy.ext.automap.na object at 0x108e58cf8>, <sqlalchemy.ext.automap.na object at 0x108e58da0>, <sqlalchemy.ext.automap.na object at 0x108e58e48>, <sqlalchemy.ext.automap.na object at 0x108e58ef0>, <sqlalchemy.ext.automap.na object at 0x108e58f98>, <sqlalchemy.ext.automap.na object at 0x108e61080>, <sqlalchemy.ext.automap.na object at 0x108e61128>, <sqlalchemy.ext.automap.na object at 0x108e611d0>, <sqlalchemy.ext.automap.na object at 0x108e61278>, <sqlalchemy.ext.automap.na object at 0x108e61320>, <sqlalchemy.ext.automap.na object at 0x108e613c8>, <sqlalchemy.ext.automap.na object at 0x108e61470>, <sqlalchemy.ext.automap.na object at 0x108e61518>, <sqlalchemy.ext.automap.na object at 0x108e615c0>, <sqlalchemy.ext.automap.na object at 0x108e61668>, <sqlalchemy.ext.automap.na object at 0x108e61710>, <sqlalchemy.ext.automap.na object at 0x108e617b8>, <sqlalchemy.ext.automap.na object at 0x108e61860>, <sqlalchemy.ext.automap.na object at 0x108e61908>, <sqlalchemy.ext.automap.na object at 0x108e619b0>, <sqlalchemy.ext.automap.na object at 0x108e61a58>, <sqlalchemy.ext.automap.na object at 0x108e61b00>, <sqlalchemy.ext.automap.na object at 0x108e61ba8>, <sqlalchemy.ext.automap.na object at 0x108e61c50>, <sqlalchemy.ext.automap.na object at 0x108e61cf8>, <sqlalchemy.ext.automap.na object at 0x108e61da0>, <sqlalchemy.ext.automap.na object at 0x108e61e48>, <sqlalchemy.ext.automap.na object at 0x108e61ef0>, <sqlalchemy.ext.automap.na object at 0x108e61f98>, <sqlalchemy.ext.automap.na object at 0x108e65080>, <sqlalchemy.ext.automap.na object at 0x108e65128>, <sqlalchemy.ext.automap.na object at 0x108e651d0>, <sqlalchemy.ext.automap.na object at 0x108e65278>, <sqlalchemy.ext.automap.na object at 0x108e65320>, <sqlalchemy.ext.automap.na object at 0x108e653c8>, <sqlalchemy.ext.automap.na object at 0x108e65470>, <sqlalchemy.ext.automap.na object at 0x108e65518>, <sqlalchemy.ext.automap.na object at 0x108e655c0>, <sqlalchemy.ext.automap.na object at 0x108e65668>, <sqlalchemy.ext.automap.na object at 0x108e65710>, <sqlalchemy.ext.automap.na object at 0x108e657b8>, <sqlalchemy.ext.automap.na object at 0x108e65860>, <sqlalchemy.ext.automap.na object at 0x108e65908>, <sqlalchemy.ext.automap.na object at 0x108e659b0>, <sqlalchemy.ext.automap.na object at 0x108e65a58>, <sqlalchemy.ext.automap.na object at 0x108e65b00>, <sqlalchemy.ext.automap.na object at 0x108e65ba8>, <sqlalchemy.ext.automap.na object at 0x108e65c50>, <sqlalchemy.ext.automap.na object at 0x108e65cf8>, <sqlalchemy.ext.automap.na object at 0x108e65da0>, <sqlalchemy.ext.automap.na object at 0x108e65e48>, <sqlalchemy.ext.automap.na object at 0x108e65ef0>, <sqlalchemy.ext.automap.na object at 0x108e65f98>, <sqlalchemy.ext.automap.na object at 0x108e6d080>, <sqlalchemy.ext.automap.na object at 0x108e6d128>, <sqlalchemy.ext.automap.na object at 0x108e6d1d0>, <sqlalchemy.ext.automap.na object at 0x108e6d278>, <sqlalchemy.ext.automap.na object at 0x108e6d320>, <sqlalchemy.ext.automap.na object at 0x108e6d3c8>, <sqlalchemy.ext.automap.na object at 0x108e6d470>, <sqlalchemy.ext.automap.na object at 0x108e6d518>, <sqlalchemy.ext.automap.na object at 0x108e6d5c0>, <sqlalchemy.ext.automap.na object at 0x108e6d668>, <sqlalchemy.ext.automap.na object at 0x108e6d710>, <sqlalchemy.ext.automap.na object at 0x108e6d7b8>, <sqlalchemy.ext.automap.na object at 0x108e6d860>, <sqlalchemy.ext.automap.na object at 0x108e6d908>, <sqlalchemy.ext.automap.na object at 0x108e6d9b0>, <sqlalchemy.ext.automap.na object at 0x108e6da58>, <sqlalchemy.ext.automap.na object at 0x108e6db00>, <sqlalchemy.ext.automap.na object at 0x108e6dba8>, <sqlalchemy.ext.automap.na object at 0x108e6dc50>, <sqlalchemy.ext.automap.na object at 0x108e6dcf8>, <sqlalchemy.ext.automap.na object at 0x108e6dda0>, <sqlalchemy.ext.automap.na object at 0x108e6de48>, <sqlalchemy.ext.automap.na object at 0x108e6def0>, <sqlalchemy.ext.automap.na object at 0x108e6df98>, <sqlalchemy.ext.automap.na object at 0x108e72080>, <sqlalchemy.ext.automap.na object at 0x108e72128>, <sqlalchemy.ext.automap.na object at 0x108e721d0>, <sqlalchemy.ext.automap.na object at 0x108e72278>, <sqlalchemy.ext.automap.na object at 0x108e72320>, <sqlalchemy.ext.automap.na object at 0x108e723c8>, <sqlalchemy.ext.automap.na object at 0x108e72470>, <sqlalchemy.ext.automap.na object at 0x108e72518>, <sqlalchemy.ext.automap.na object at 0x108e725c0>, <sqlalchemy.ext.automap.na object at 0x108e72668>, <sqlalchemy.ext.automap.na object at 0x108e72710>, <sqlalchemy.ext.automap.na object at 0x108e727b8>, <sqlalchemy.ext.automap.na object at 0x108e72860>, <sqlalchemy.ext.automap.na object at 0x108e72908>, <sqlalchemy.ext.automap.na object at 0x108e729b0>, <sqlalchemy.ext.automap.na object at 0x108e72a58>, <sqlalchemy.ext.automap.na object at 0x108e72b00>, <sqlalchemy.ext.automap.na object at 0x108e72ba8>, <sqlalchemy.ext.automap.na object at 0x108e72c50>, <sqlalchemy.ext.automap.na object at 0x108e72cf8>, <sqlalchemy.ext.automap.na object at 0x108e72da0>, <sqlalchemy.ext.automap.na object at 0x108e72e48>, <sqlalchemy.ext.automap.na object at 0x108e72ef0>, <sqlalchemy.ext.automap.na object at 0x108e72f98>, <sqlalchemy.ext.automap.na object at 0x108e7d080>, <sqlalchemy.ext.automap.na object at 0x108e7d128>, <sqlalchemy.ext.automap.na object at 0x108e7d1d0>, <sqlalchemy.ext.automap.na object at 0x108e7d278>, <sqlalchemy.ext.automap.na object at 0x108e7d320>, <sqlalchemy.ext.automap.na object at 0x108e7d3c8>, <sqlalchemy.ext.automap.na object at 0x108e7d470>, <sqlalchemy.ext.automap.na object at 0x108e7d518>, <sqlalchemy.ext.automap.na object at 0x108e7d5c0>, <sqlalchemy.ext.automap.na object at 0x108e7d668>, <sqlalchemy.ext.automap.na object at 0x108e7d710>, <sqlalchemy.ext.automap.na object at 0x108e7d7b8>, <sqlalchemy.ext.automap.na object at 0x108e7d860>, <sqlalchemy.ext.automap.na object at 0x108e7d908>, <sqlalchemy.ext.automap.na object at 0x108e7d9b0>, <sqlalchemy.ext.automap.na object at 0x108e7da58>, <sqlalchemy.ext.automap.na object at 0x108e7db00>, <sqlalchemy.ext.automap.na object at 0x108e7dba8>, <sqlalchemy.ext.automap.na object at 0x108e7dc50>, <sqlalchemy.ext.automap.na object at 0x108e7dcf8>, <sqlalchemy.ext.automap.na object at 0x108e7dda0>, <sqlalchemy.ext.automap.na object at 0x108e7de48>, <sqlalchemy.ext.automap.na object at 0x108e7def0>, <sqlalchemy.ext.automap.na object at 0x108e7df98>, <sqlalchemy.ext.automap.na object at 0x108e49080>, <sqlalchemy.ext.automap.na object at 0x108e49128>, <sqlalchemy.ext.automap.na object at 0x108e491d0>, <sqlalchemy.ext.automap.na object at 0x108e49278>, <sqlalchemy.ext.automap.na object at 0x108e49320>, <sqlalchemy.ext.automap.na object at 0x108e493c8>, <sqlalchemy.ext.automap.na object at 0x108e49470>, <sqlalchemy.ext.automap.na object at 0x108e49518>, <sqlalchemy.ext.automap.na object at 0x108e495c0>, <sqlalchemy.ext.automap.na object at 0x108e49668>, <sqlalchemy.ext.automap.na object at 0x108e49710>, <sqlalchemy.ext.automap.na object at 0x108e497b8>, <sqlalchemy.ext.automap.na object at 0x108e49860>, <sqlalchemy.ext.automap.na object at 0x108e49908>, <sqlalchemy.ext.automap.na object at 0x108e499b0>, <sqlalchemy.ext.automap.na object at 0x108e49a58>, <sqlalchemy.ext.automap.na object at 0x108e49b00>, <sqlalchemy.ext.automap.na object at 0x108e49ba8>, <sqlalchemy.ext.automap.na object at 0x108e49c50>, <sqlalchemy.ext.automap.na object at 0x108e49cf8>, <sqlalchemy.ext.automap.na object at 0x108e49da0>, <sqlalchemy.ext.automap.na object at 0x108e49e48>, <sqlalchemy.ext.automap.na object at 0x108e49ef0>, <sqlalchemy.ext.automap.na object at 0x108e49f98>, <sqlalchemy.ext.automap.na object at 0x108c93080>, <sqlalchemy.ext.automap.na object at 0x108c93128>, <sqlalchemy.ext.automap.na object at 0x108c931d0>, <sqlalchemy.ext.automap.na object at 0x108c93278>, <sqlalchemy.ext.automap.na object at 0x108c93320>, <sqlalchemy.ext.automap.na object at 0x108c933c8>, <sqlalchemy.ext.automap.na object at 0x108c93470>, <sqlalchemy.ext.automap.na object at 0x108c93518>, <sqlalchemy.ext.automap.na object at 0x108c935c0>, <sqlalchemy.ext.automap.na object at 0x108c93668>, <sqlalchemy.ext.automap.na object at 0x108c93710>, <sqlalchemy.ext.automap.na object at 0x108c937b8>, <sqlalchemy.ext.automap.na object at 0x108c93860>, <sqlalchemy.ext.automap.na object at 0x108c93908>, <sqlalchemy.ext.automap.na object at 0x108c939b0>, <sqlalchemy.ext.automap.na object at 0x108c93a58>, <sqlalchemy.ext.automap.na object at 0x108c93b00>, <sqlalchemy.ext.automap.na object at 0x108c93ba8>, <sqlalchemy.ext.automap.na object at 0x108c93c50>, <sqlalchemy.ext.automap.na object at 0x108c93cf8>, <sqlalchemy.ext.automap.na object at 0x108c93da0>, <sqlalchemy.ext.automap.na object at 0x108c93e48>, <sqlalchemy.ext.automap.na object at 0x108c93ef0>, <sqlalchemy.ext.automap.na object at 0x108c93f98>, <sqlalchemy.ext.automap.na object at 0x108ca3080>, <sqlalchemy.ext.automap.na object at 0x108ca3128>, <sqlalchemy.ext.automap.na object at 0x108ca31d0>, <sqlalchemy.ext.automap.na object at 0x108ca3278>, <sqlalchemy.ext.automap.na object at 0x108ca3320>, <sqlalchemy.ext.automap.na object at 0x108ca33c8>, <sqlalchemy.ext.automap.na object at 0x108ca3470>, <sqlalchemy.ext.automap.na object at 0x108ca3518>, <sqlalchemy.ext.automap.na object at 0x108ca35c0>, <sqlalchemy.ext.automap.na object at 0x108ca3668>, <sqlalchemy.ext.automap.na object at 0x108ca3710>, <sqlalchemy.ext.automap.na object at 0x108ca37b8>, <sqlalchemy.ext.automap.na object at 0x108ca3860>, <sqlalchemy.ext.automap.na object at 0x108ca3908>, <sqlalchemy.ext.automap.na object at 0x108ca39b0>, <sqlalchemy.ext.automap.na object at 0x108ca3a58>, <sqlalchemy.ext.automap.na object at 0x108ca3b00>, <sqlalchemy.ext.automap.na object at 0x108ca3ba8>, <sqlalchemy.ext.automap.na object at 0x108ca3c50>, <sqlalchemy.ext.automap.na object at 0x108ca3cf8>, <sqlalchemy.ext.automap.na object at 0x108ca3da0>, <sqlalchemy.ext.automap.na object at 0x108ca3e48>, <sqlalchemy.ext.automap.na object at 0x108ca3ef0>, <sqlalchemy.ext.automap.na object at 0x108ca3f98>, <sqlalchemy.ext.automap.na object at 0x108ca6080>, <sqlalchemy.ext.automap.na object at 0x108ca6128>, <sqlalchemy.ext.automap.na object at 0x108ca61d0>, <sqlalchemy.ext.automap.na object at 0x108ca6278>, <sqlalchemy.ext.automap.na object at 0x108ca6320>, <sqlalchemy.ext.automap.na object at 0x108ca63c8>, <sqlalchemy.ext.automap.na object at 0x108ca6470>, <sqlalchemy.ext.automap.na object at 0x108ca6518>, <sqlalchemy.ext.automap.na object at 0x108ca65c0>, <sqlalchemy.ext.automap.na object at 0x108ca6668>, <sqlalchemy.ext.automap.na object at 0x108ca6710>, <sqlalchemy.ext.automap.na object at 0x108ca67b8>, <sqlalchemy.ext.automap.na object at 0x108ca6860>, <sqlalchemy.ext.automap.na object at 0x108ca6908>, <sqlalchemy.ext.automap.na object at 0x108ca69b0>, <sqlalchemy.ext.automap.na object at 0x108ca6a58>, <sqlalchemy.ext.automap.na object at 0x108ca6b00>, <sqlalchemy.ext.automap.na object at 0x108ca6ba8>, <sqlalchemy.ext.automap.na object at 0x108ca6c50>, <sqlalchemy.ext.automap.na object at 0x108ca6cf8>, <sqlalchemy.ext.automap.na object at 0x108ca6da0>, <sqlalchemy.ext.automap.na object at 0x108ca6e48>, <sqlalchemy.ext.automap.na object at 0x108ca6ef0>, <sqlalchemy.ext.automap.na object at 0x108ca6f98>, <sqlalchemy.ext.automap.na object at 0x108cab080>, <sqlalchemy.ext.automap.na object at 0x108cab128>, <sqlalchemy.ext.automap.na object at 0x108cab1d0>, <sqlalchemy.ext.automap.na object at 0x108cab278>, <sqlalchemy.ext.automap.na object at 0x108cab320>, <sqlalchemy.ext.automap.na object at 0x108cab3c8>, <sqlalchemy.ext.automap.na object at 0x108cab470>, <sqlalchemy.ext.automap.na object at 0x108cab518>, <sqlalchemy.ext.automap.na object at 0x108cab5c0>, <sqlalchemy.ext.automap.na object at 0x108cab668>, <sqlalchemy.ext.automap.na object at 0x108cab710>, <sqlalchemy.ext.automap.na object at 0x108cab7b8>, <sqlalchemy.ext.automap.na object at 0x108cab860>, <sqlalchemy.ext.automap.na object at 0x108cab908>, <sqlalchemy.ext.automap.na object at 0x108cab9b0>, <sqlalchemy.ext.automap.na object at 0x108caba58>, <sqlalchemy.ext.automap.na object at 0x108cabb00>, <sqlalchemy.ext.automap.na object at 0x108cabba8>, <sqlalchemy.ext.automap.na object at 0x108cabc50>, <sqlalchemy.ext.automap.na object at 0x108cabcf8>, <sqlalchemy.ext.automap.na object at 0x108cabda0>, <sqlalchemy.ext.automap.na object at 0x108cabe48>, <sqlalchemy.ext.automap.na object at 0x108cabef0>, <sqlalchemy.ext.automap.na object at 0x108cabf98>, <sqlalchemy.ext.automap.na object at 0x108cba080>, <sqlalchemy.ext.automap.na object at 0x108cba128>, <sqlalchemy.ext.automap.na object at 0x108cba1d0>, <sqlalchemy.ext.automap.na object at 0x108cba278>, <sqlalchemy.ext.automap.na object at 0x108cba320>, <sqlalchemy.ext.automap.na object at 0x108cba3c8>, <sqlalchemy.ext.automap.na object at 0x108cba470>, <sqlalchemy.ext.automap.na object at 0x108cba518>, <sqlalchemy.ext.automap.na object at 0x108cba5c0>, <sqlalchemy.ext.automap.na object at 0x108cba668>, <sqlalchemy.ext.automap.na object at 0x108cba710>, <sqlalchemy.ext.automap.na object at 0x108cba7b8>, <sqlalchemy.ext.automap.na object at 0x108cba860>, <sqlalchemy.ext.automap.na object at 0x108cba908>, <sqlalchemy.ext.automap.na object at 0x108cba9b0>, <sqlalchemy.ext.automap.na object at 0x108cbaa58>, <sqlalchemy.ext.automap.na object at 0x108cbab00>, <sqlalchemy.ext.automap.na object at 0x108cbaba8>, <sqlalchemy.ext.automap.na object at 0x108cbac50>, <sqlalchemy.ext.automap.na object at 0x108cbacf8>, <sqlalchemy.ext.automap.na object at 0x108cbada0>, <sqlalchemy.ext.automap.na object at 0x108cbae48>, <sqlalchemy.ext.automap.na object at 0x108cbaef0>, <sqlalchemy.ext.automap.na object at 0x108cbaf98>, <sqlalchemy.ext.automap.na object at 0x108c8f080>, <sqlalchemy.ext.automap.na object at 0x108c8f128>, <sqlalchemy.ext.automap.na object at 0x108c8f1d0>, <sqlalchemy.ext.automap.na object at 0x108c8f278>, <sqlalchemy.ext.automap.na object at 0x108c8f320>, <sqlalchemy.ext.automap.na object at 0x108c8f3c8>, <sqlalchemy.ext.automap.na object at 0x108c8f470>, <sqlalchemy.ext.automap.na object at 0x108c8f518>, <sqlalchemy.ext.automap.na object at 0x108c8f5c0>, <sqlalchemy.ext.automap.na object at 0x108c8f668>, <sqlalchemy.ext.automap.na object at 0x108c8f710>, <sqlalchemy.ext.automap.na object at 0x108c8f7b8>, <sqlalchemy.ext.automap.na object at 0x108c8f860>, <sqlalchemy.ext.automap.na object at 0x108c8f908>, <sqlalchemy.ext.automap.na object at 0x108c8f9b0>, <sqlalchemy.ext.automap.na object at 0x108c8fa58>, <sqlalchemy.ext.automap.na object at 0x108c8fb00>, <sqlalchemy.ext.automap.na object at 0x108c8fba8>, <sqlalchemy.ext.automap.na object at 0x108c8fc50>, <sqlalchemy.ext.automap.na object at 0x108c8fcf8>, <sqlalchemy.ext.automap.na object at 0x108c8fda0>, <sqlalchemy.ext.automap.na object at 0x108c8fe48>, <sqlalchemy.ext.automap.na object at 0x108c8fef0>, <sqlalchemy.ext.automap.na object at 0x108c8ff98>, <sqlalchemy.ext.automap.na object at 0x108d91080>, <sqlalchemy.ext.automap.na object at 0x108d91128>, <sqlalchemy.ext.automap.na object at 0x108d911d0>, <sqlalchemy.ext.automap.na object at 0x108d91278>, <sqlalchemy.ext.automap.na object at 0x108d91320>, <sqlalchemy.ext.automap.na object at 0x108d913c8>, <sqlalchemy.ext.automap.na object at 0x108d91470>, <sqlalchemy.ext.automap.na object at 0x108d91518>, <sqlalchemy.ext.automap.na object at 0x108d915c0>, <sqlalchemy.ext.automap.na object at 0x108d91668>, <sqlalchemy.ext.automap.na object at 0x108d91710>, <sqlalchemy.ext.automap.na object at 0x108d917b8>, <sqlalchemy.ext.automap.na object at 0x108d91860>, <sqlalchemy.ext.automap.na object at 0x108d91908>, <sqlalchemy.ext.automap.na object at 0x108d919b0>, <sqlalchemy.ext.automap.na object at 0x108d91a58>, <sqlalchemy.ext.automap.na object at 0x108d91b00>, <sqlalchemy.ext.automap.na object at 0x108d91ba8>, <sqlalchemy.ext.automap.na object at 0x108d91c50>, <sqlalchemy.ext.automap.na object at 0x108d91cf8>, <sqlalchemy.ext.automap.na object at 0x108d91da0>, <sqlalchemy.ext.automap.na object at 0x108d91e48>, <sqlalchemy.ext.automap.na object at 0x108d91ef0>, <sqlalchemy.ext.automap.na object at 0x108d91f98>, <sqlalchemy.ext.automap.na object at 0x108da2080>, <sqlalchemy.ext.automap.na object at 0x108da2128>, <sqlalchemy.ext.automap.na object at 0x108da21d0>, <sqlalchemy.ext.automap.na object at 0x108da2278>, <sqlalchemy.ext.automap.na object at 0x108da2320>, <sqlalchemy.ext.automap.na object at 0x108da23c8>, <sqlalchemy.ext.automap.na object at 0x108da2470>, <sqlalchemy.ext.automap.na object at 0x108da2518>, <sqlalchemy.ext.automap.na object at 0x108da25c0>, <sqlalchemy.ext.automap.na object at 0x108da2668>, <sqlalchemy.ext.automap.na object at 0x108da2710>, <sqlalchemy.ext.automap.na object at 0x108da27b8>, <sqlalchemy.ext.automap.na object at 0x108da2860>, <sqlalchemy.ext.automap.na object at 0x108da2908>, <sqlalchemy.ext.automap.na object at 0x108da29b0>, <sqlalchemy.ext.automap.na object at 0x108da2a58>, <sqlalchemy.ext.automap.na object at 0x108da2b00>, <sqlalchemy.ext.automap.na object at 0x108da2ba8>, <sqlalchemy.ext.automap.na object at 0x108da2c50>, <sqlalchemy.ext.automap.na object at 0x108da2cf8>, <sqlalchemy.ext.automap.na object at 0x108da2da0>, <sqlalchemy.ext.automap.na object at 0x108da2e48>, <sqlalchemy.ext.automap.na object at 0x108da2ef0>, <sqlalchemy.ext.automap.na object at 0x108da2f98>, <sqlalchemy.ext.automap.na object at 0x108dab080>, <sqlalchemy.ext.automap.na object at 0x108dab128>, <sqlalchemy.ext.automap.na object at 0x108dab1d0>, <sqlalchemy.ext.automap.na object at 0x108dab278>, <sqlalchemy.ext.automap.na object at 0x108dab320>, <sqlalchemy.ext.automap.na object at 0x108dab3c8>, <sqlalchemy.ext.automap.na object at 0x108dab470>, <sqlalchemy.ext.automap.na object at 0x108dab518>, <sqlalchemy.ext.automap.na object at 0x108dab5c0>, <sqlalchemy.ext.automap.na object at 0x108dab668>, <sqlalchemy.ext.automap.na object at 0x108dab710>, <sqlalchemy.ext.automap.na object at 0x108dab7b8>, <sqlalchemy.ext.automap.na object at 0x108dab860>, <sqlalchemy.ext.automap.na object at 0x108dab908>, <sqlalchemy.ext.automap.na object at 0x108dab9b0>, <sqlalchemy.ext.automap.na object at 0x108daba58>, <sqlalchemy.ext.automap.na object at 0x108dabb00>, <sqlalchemy.ext.automap.na object at 0x108dabba8>, <sqlalchemy.ext.automap.na object at 0x108dabc50>, <sqlalchemy.ext.automap.na object at 0x108dabcf8>, <sqlalchemy.ext.automap.na object at 0x108dabda0>, <sqlalchemy.ext.automap.na object at 0x108dabe48>, <sqlalchemy.ext.automap.na object at 0x108dabef0>, <sqlalchemy.ext.automap.na object at 0x108dabf98>, <sqlalchemy.ext.automap.na object at 0x108db4080>, <sqlalchemy.ext.automap.na object at 0x108db4128>, <sqlalchemy.ext.automap.na object at 0x108db41d0>, <sqlalchemy.ext.automap.na object at 0x108db4278>, <sqlalchemy.ext.automap.na object at 0x108db4320>, <sqlalchemy.ext.automap.na object at 0x108db43c8>, <sqlalchemy.ext.automap.na object at 0x108db4470>, <sqlalchemy.ext.automap.na object at 0x108db4518>, <sqlalchemy.ext.automap.na object at 0x108db45c0>, <sqlalchemy.ext.automap.na object at 0x108db4668>, <sqlalchemy.ext.automap.na object at 0x108db4710>, <sqlalchemy.ext.automap.na object at 0x108db47b8>, <sqlalchemy.ext.automap.na object at 0x108db4860>, <sqlalchemy.ext.automap.na object at 0x108db4908>, <sqlalchemy.ext.automap.na object at 0x108db49b0>, <sqlalchemy.ext.automap.na object at 0x108db4a58>, <sqlalchemy.ext.automap.na object at 0x108db4b00>, <sqlalchemy.ext.automap.na object at 0x108db4ba8>, <sqlalchemy.ext.automap.na object at 0x108db4c50>, <sqlalchemy.ext.automap.na object at 0x108db4cf8>, <sqlalchemy.ext.automap.na object at 0x108db4da0>, <sqlalchemy.ext.automap.na object at 0x108db4e48>, <sqlalchemy.ext.automap.na object at 0x108db4ef0>, <sqlalchemy.ext.automap.na object at 0x108db4f98>, <sqlalchemy.ext.automap.na object at 0x108f8d080>, <sqlalchemy.ext.automap.na object at 0x108f8d128>, <sqlalchemy.ext.automap.na object at 0x108f8d1d0>, <sqlalchemy.ext.automap.na object at 0x108f8d278>, <sqlalchemy.ext.automap.na object at 0x108f8d320>, <sqlalchemy.ext.automap.na object at 0x108f8d3c8>, <sqlalchemy.ext.automap.na object at 0x108f8d470>, <sqlalchemy.ext.automap.na object at 0x108f8d518>, <sqlalchemy.ext.automap.na object at 0x108f8d5c0>, <sqlalchemy.ext.automap.na object at 0x108f8d668>, <sqlalchemy.ext.automap.na object at 0x108f8d710>, <sqlalchemy.ext.automap.na object at 0x108f8d7b8>, <sqlalchemy.ext.automap.na object at 0x108f8d860>, <sqlalchemy.ext.automap.na object at 0x108f8d908>, <sqlalchemy.ext.automap.na object at 0x108f8d9b0>, <sqlalchemy.ext.automap.na object at 0x108f8da58>, <sqlalchemy.ext.automap.na object at 0x108f8db00>, <sqlalchemy.ext.automap.na object at 0x108f8dba8>, <sqlalchemy.ext.automap.na object at 0x108f8dc50>, <sqlalchemy.ext.automap.na object at 0x108f8dcf8>, <sqlalchemy.ext.automap.na object at 0x108f8dda0>, <sqlalchemy.ext.automap.na object at 0x108f8de48>, <sqlalchemy.ext.automap.na object at 0x108f8def0>, <sqlalchemy.ext.automap.na object at 0x108f8df98>, <sqlalchemy.ext.automap.na object at 0x108f82080>, <sqlalchemy.ext.automap.na object at 0x108f82128>, <sqlalchemy.ext.automap.na object at 0x108f821d0>, <sqlalchemy.ext.automap.na object at 0x108f82278>, <sqlalchemy.ext.automap.na object at 0x108f82320>, <sqlalchemy.ext.automap.na object at 0x108f823c8>, <sqlalchemy.ext.automap.na object at 0x108f82470>, <sqlalchemy.ext.automap.na object at 0x108f82518>, <sqlalchemy.ext.automap.na object at 0x108f825c0>, <sqlalchemy.ext.automap.na object at 0x108f82668>, <sqlalchemy.ext.automap.na object at 0x108f82710>, <sqlalchemy.ext.automap.na object at 0x108f827b8>, <sqlalchemy.ext.automap.na object at 0x108f82860>, <sqlalchemy.ext.automap.na object at 0x108f82908>, <sqlalchemy.ext.automap.na object at 0x108f829b0>, <sqlalchemy.ext.automap.na object at 0x108f82a58>, <sqlalchemy.ext.automap.na object at 0x108f82b00>, <sqlalchemy.ext.automap.na object at 0x108f82ba8>, <sqlalchemy.ext.automap.na object at 0x108f82c50>, <sqlalchemy.ext.automap.na object at 0x108f82cf8>, <sqlalchemy.ext.automap.na object at 0x108f82da0>, <sqlalchemy.ext.automap.na object at 0x108f82e48>, <sqlalchemy.ext.automap.na object at 0x108f82ef0>, <sqlalchemy.ext.automap.na object at 0x108f82f98>, <sqlalchemy.ext.automap.na object at 0x108fa1080>, <sqlalchemy.ext.automap.na object at 0x108fa1128>, <sqlalchemy.ext.automap.na object at 0x108fa11d0>, <sqlalchemy.ext.automap.na object at 0x108fa1278>, <sqlalchemy.ext.automap.na object at 0x108fa1320>, <sqlalchemy.ext.automap.na object at 0x108fa13c8>, <sqlalchemy.ext.automap.na object at 0x108fa1470>, <sqlalchemy.ext.automap.na object at 0x108fa1518>, <sqlalchemy.ext.automap.na object at 0x108fa15c0>, <sqlalchemy.ext.automap.na object at 0x108fa1668>, <sqlalchemy.ext.automap.na object at 0x108fa1710>, <sqlalchemy.ext.automap.na object at 0x108fa17b8>, <sqlalchemy.ext.automap.na object at 0x108fa1860>, <sqlalchemy.ext.automap.na object at 0x108fa1908>, <sqlalchemy.ext.automap.na object at 0x108fa19b0>, <sqlalchemy.ext.automap.na object at 0x108fa1a58>, <sqlalchemy.ext.automap.na object at 0x108fa1b00>, <sqlalchemy.ext.automap.na object at 0x108fa1ba8>, <sqlalchemy.ext.automap.na object at 0x108fa1c50>, <sqlalchemy.ext.automap.na object at 0x108fa1cf8>, <sqlalchemy.ext.automap.na object at 0x108fa1da0>, <sqlalchemy.ext.automap.na object at 0x108fa1e48>, <sqlalchemy.ext.automap.na object at 0x108fa1ef0>, <sqlalchemy.ext.automap.na object at 0x108fa1f98>, <sqlalchemy.ext.automap.na object at 0x108fb3080>, <sqlalchemy.ext.automap.na object at 0x108fb3128>, <sqlalchemy.ext.automap.na object at 0x108fb31d0>, <sqlalchemy.ext.automap.na object at 0x108fb3278>, <sqlalchemy.ext.automap.na object at 0x108fb3320>, <sqlalchemy.ext.automap.na object at 0x108fb33c8>, <sqlalchemy.ext.automap.na object at 0x108fb3470>, <sqlalchemy.ext.automap.na object at 0x108fb3518>, <sqlalchemy.ext.automap.na object at 0x108fb35c0>, <sqlalchemy.ext.automap.na object at 0x108fb3668>, <sqlalchemy.ext.automap.na object at 0x108fb3710>, <sqlalchemy.ext.automap.na object at 0x108fb37b8>, <sqlalchemy.ext.automap.na object at 0x108fb3860>, <sqlalchemy.ext.automap.na object at 0x108fb3908>, <sqlalchemy.ext.automap.na object at 0x108fb39b0>, <sqlalchemy.ext.automap.na object at 0x108fb3a58>, <sqlalchemy.ext.automap.na object at 0x108fb3b00>, <sqlalchemy.ext.automap.na object at 0x108fb3ba8>, <sqlalchemy.ext.automap.na object at 0x108fb3c50>, <sqlalchemy.ext.automap.na object at 0x108fb3cf8>, <sqlalchemy.ext.automap.na object at 0x108fb3da0>, <sqlalchemy.ext.automap.na object at 0x108fb3e48>, <sqlalchemy.ext.automap.na object at 0x108fb3ef0>, <sqlalchemy.ext.automap.na object at 0x108fb3f98>, <sqlalchemy.ext.automap.na object at 0x108fbc080>, <sqlalchemy.ext.automap.na object at 0x108fbc128>, <sqlalchemy.ext.automap.na object at 0x108fbc1d0>, <sqlalchemy.ext.automap.na object at 0x108fbc278>, <sqlalchemy.ext.automap.na object at 0x108fbc320>, <sqlalchemy.ext.automap.na object at 0x108fbc3c8>, <sqlalchemy.ext.automap.na object at 0x108fbc470>, <sqlalchemy.ext.automap.na object at 0x108fbc518>, <sqlalchemy.ext.automap.na object at 0x108fbc5c0>, <sqlalchemy.ext.automap.na object at 0x108fbc668>, <sqlalchemy.ext.automap.na object at 0x108fbc710>, <sqlalchemy.ext.automap.na object at 0x108fbc7b8>, <sqlalchemy.ext.automap.na object at 0x108fbc860>, <sqlalchemy.ext.automap.na object at 0x108fbc908>, <sqlalchemy.ext.automap.na object at 0x108fbc9b0>, <sqlalchemy.ext.automap.na object at 0x108fbca58>, <sqlalchemy.ext.automap.na object at 0x108fbcb00>, <sqlalchemy.ext.automap.na object at 0x108fbcba8>, <sqlalchemy.ext.automap.na object at 0x108fbcc50>, <sqlalchemy.ext.automap.na object at 0x108fbccf8>, <sqlalchemy.ext.automap.na object at 0x108fbcda0>, <sqlalchemy.ext.automap.na object at 0x108fbce48>, <sqlalchemy.ext.automap.na object at 0x108fbcef0>, <sqlalchemy.ext.automap.na object at 0x108fbcf98>, <sqlalchemy.ext.automap.na object at 0x108bab080>, <sqlalchemy.ext.automap.na object at 0x108bab128>, <sqlalchemy.ext.automap.na object at 0x108bab1d0>, <sqlalchemy.ext.automap.na object at 0x108bab278>, <sqlalchemy.ext.automap.na object at 0x108bab320>, <sqlalchemy.ext.automap.na object at 0x108bab3c8>, <sqlalchemy.ext.automap.na object at 0x108bab470>, <sqlalchemy.ext.automap.na object at 0x108bab518>, <sqlalchemy.ext.automap.na object at 0x108bab5c0>, <sqlalchemy.ext.automap.na object at 0x108bab668>, <sqlalchemy.ext.automap.na object at 0x108bab710>, <sqlalchemy.ext.automap.na object at 0x108bab7b8>, <sqlalchemy.ext.automap.na object at 0x108bab860>, <sqlalchemy.ext.automap.na object at 0x108bab908>, <sqlalchemy.ext.automap.na object at 0x108bab9b0>, <sqlalchemy.ext.automap.na object at 0x108baba58>, <sqlalchemy.ext.automap.na object at 0x108babb00>, <sqlalchemy.ext.automap.na object at 0x108babba8>, <sqlalchemy.ext.automap.na object at 0x108babc50>, <sqlalchemy.ext.automap.na object at 0x108babcf8>, <sqlalchemy.ext.automap.na object at 0x108babda0>, <sqlalchemy.ext.automap.na object at 0x108babe48>, <sqlalchemy.ext.automap.na object at 0x108babef0>, <sqlalchemy.ext.automap.na object at 0x108babf98>, <sqlalchemy.ext.automap.na object at 0x108b8b080>, <sqlalchemy.ext.automap.na object at 0x108b8b128>, <sqlalchemy.ext.automap.na object at 0x108b8b1d0>, <sqlalchemy.ext.automap.na object at 0x108b8b278>, <sqlalchemy.ext.automap.na object at 0x108b8b320>, <sqlalchemy.ext.automap.na object at 0x108b8b3c8>, <sqlalchemy.ext.automap.na object at 0x108b8b470>, <sqlalchemy.ext.automap.na object at 0x108b8b518>, <sqlalchemy.ext.automap.na object at 0x108b8b5c0>, <sqlalchemy.ext.automap.na object at 0x108b8b668>, <sqlalchemy.ext.automap.na object at 0x108b8b710>, <sqlalchemy.ext.automap.na object at 0x108b8b7b8>, <sqlalchemy.ext.automap.na object at 0x108b8b860>, <sqlalchemy.ext.automap.na object at 0x108b8b908>, <sqlalchemy.ext.automap.na object at 0x108b8b9b0>, <sqlalchemy.ext.automap.na object at 0x108b8ba58>, <sqlalchemy.ext.automap.na object at 0x108b8bb00>, <sqlalchemy.ext.automap.na object at 0x108b8bba8>, <sqlalchemy.ext.automap.na object at 0x108b8bc50>, <sqlalchemy.ext.automap.na object at 0x108b8bcf8>, <sqlalchemy.ext.automap.na object at 0x108b8bda0>, <sqlalchemy.ext.automap.na object at 0x108b8be48>, <sqlalchemy.ext.automap.na object at 0x108b8bef0>, <sqlalchemy.ext.automap.na object at 0x108b8bf98>, <sqlalchemy.ext.automap.na object at 0x108b94080>, <sqlalchemy.ext.automap.na object at 0x108b94128>, <sqlalchemy.ext.automap.na object at 0x108b941d0>, <sqlalchemy.ext.automap.na object at 0x108b94278>, <sqlalchemy.ext.automap.na object at 0x108b94320>, <sqlalchemy.ext.automap.na object at 0x108b943c8>, <sqlalchemy.ext.automap.na object at 0x108b94470>, <sqlalchemy.ext.automap.na object at 0x108b94518>, <sqlalchemy.ext.automap.na object at 0x108b945c0>, <sqlalchemy.ext.automap.na object at 0x108b94668>, <sqlalchemy.ext.automap.na object at 0x108b94710>, <sqlalchemy.ext.automap.na object at 0x108b947b8>, <sqlalchemy.ext.automap.na object at 0x108b94860>, <sqlalchemy.ext.automap.na object at 0x108b94908>, <sqlalchemy.ext.automap.na object at 0x108b949b0>, <sqlalchemy.ext.automap.na object at 0x108b94a58>, <sqlalchemy.ext.automap.na object at 0x108b94b00>, <sqlalchemy.ext.automap.na object at 0x108b94ba8>, <sqlalchemy.ext.automap.na object at 0x108b94c50>, <sqlalchemy.ext.automap.na object at 0x108b94cf8>, <sqlalchemy.ext.automap.na object at 0x108b94da0>, <sqlalchemy.ext.automap.na object at 0x108b94e48>, <sqlalchemy.ext.automap.na object at 0x108b94ef0>, <sqlalchemy.ext.automap.na object at 0x108b94f98>, <sqlalchemy.ext.automap.na object at 0x108b9f080>, <sqlalchemy.ext.automap.na object at 0x108b9f128>, <sqlalchemy.ext.automap.na object at 0x108b9f1d0>, <sqlalchemy.ext.automap.na object at 0x108b9f278>, <sqlalchemy.ext.automap.na object at 0x108b9f320>, <sqlalchemy.ext.automap.na object at 0x108b9f3c8>, <sqlalchemy.ext.automap.na object at 0x108b9f470>, <sqlalchemy.ext.automap.na object at 0x108b9f518>, <sqlalchemy.ext.automap.na object at 0x108b9f5c0>, <sqlalchemy.ext.automap.na object at 0x108b9f668>, <sqlalchemy.ext.automap.na object at 0x108b9f710>, <sqlalchemy.ext.automap.na object at 0x108b9f7b8>, <sqlalchemy.ext.automap.na object at 0x108b9f860>, <sqlalchemy.ext.automap.na object at 0x108b9f908>, <sqlalchemy.ext.automap.na object at 0x108b9f9b0>, <sqlalchemy.ext.automap.na object at 0x108b9fa58>]\n"
     ]
    }
   ],
   "source": [
    "tmp = session.query(NA).all()\n",
    "print(tmp)"
   ]
  },
  {
   "cell_type": "code",
   "execution_count": 7,
   "metadata": {},
   "outputs": [
    {
     "name": "stdout",
     "output_type": "stream",
     "text": [
      "Family: Antilocapridae, Genus: Antilocapra\n"
     ]
    }
   ],
   "source": [
    "# filter North American mammals whose genus is \"Antilocapra\"\n",
    "# query, loop over and print out animals.\n",
    "mammals = session.query(NA).filter(NA.genus == 'Antilocapra').all()\n",
    "for mammal in mammals:\n",
    "    print(f\"Family: {mammal.family}, Genus: {mammal.genus}\")"
   ]
  },
  {
   "cell_type": "markdown",
   "metadata": {},
   "source": [
    "## Joins"
   ]
  },
  {
   "cell_type": "markdown",
   "metadata": {
    "collapsed": true
   },
   "source": [
    "A SQL join combines columns from one or more tables in a relational database. \n",
    "\n",
    "It creates a set that can be saved as a table or used as it is. \n",
    "\n",
    "A JOIN is a means for combining columns from one (self-table) or more tables by using values common to each."
   ]
  },
  {
   "cell_type": "code",
   "execution_count": 8,
   "metadata": {},
   "outputs": [
    {
     "data": {
      "text/plain": [
       "['ea', 'na']"
      ]
     },
     "execution_count": 8,
     "metadata": {},
     "output_type": "execute_result"
    }
   ],
   "source": [
    "inspector = inspect(engine)\n",
    "inspector.get_table_names()"
   ]
  },
  {
   "cell_type": "code",
   "execution_count": 9,
   "metadata": {
    "scrolled": true
   },
   "outputs": [
    {
     "name": "stdout",
     "output_type": "stream",
     "text": [
      "id INTEGER\n",
      "record_id INTEGER\n",
      "continent TEXT\n",
      "status TEXT\n",
      "sporder TEXT\n",
      "family TEXT\n",
      "genus TEXT\n",
      "species TEXT\n",
      "log_mass_g FLOAT\n",
      "comb_mass_g FLOAT\n",
      "reference TEXT\n"
     ]
    }
   ],
   "source": [
    "# Get a list of column names and types\n",
    "columns = inspector.get_columns('ea')\n",
    "for c in columns:\n",
    "    print(c['name'], c[\"type\"])"
   ]
  },
  {
   "cell_type": "code",
   "execution_count": 10,
   "metadata": {
    "scrolled": false
   },
   "outputs": [
    {
     "data": {
      "text/plain": [
       "[('Artiodactyla', 'Artiodactyla'),\n",
       " ('Artiodactyla', 'Artiodactyla'),\n",
       " ('Artiodactyla', 'Artiodactyla'),\n",
       " ('Artiodactyla', 'Artiodactyla'),\n",
       " ('Artiodactyla', 'Artiodactyla'),\n",
       " ('Artiodactyla', 'Artiodactyla'),\n",
       " ('Artiodactyla', 'Artiodactyla'),\n",
       " ('Artiodactyla', 'Artiodactyla'),\n",
       " ('Artiodactyla', 'Artiodactyla'),\n",
       " ('Artiodactyla', 'Artiodactyla'),\n",
       " ('Artiodactyla', 'Artiodactyla'),\n",
       " ('Artiodactyla', 'Artiodactyla'),\n",
       " ('Artiodactyla', 'Artiodactyla'),\n",
       " ('Artiodactyla', 'Artiodactyla'),\n",
       " ('Artiodactyla', 'Artiodactyla'),\n",
       " ('Artiodactyla', 'Artiodactyla'),\n",
       " ('Artiodactyla', 'Artiodactyla'),\n",
       " ('Artiodactyla', 'Artiodactyla'),\n",
       " ('Artiodactyla', 'Artiodactyla'),\n",
       " ('Artiodactyla', 'Artiodactyla'),\n",
       " ('Artiodactyla', 'Artiodactyla'),\n",
       " ('Artiodactyla', 'Artiodactyla'),\n",
       " ('Artiodactyla', 'Artiodactyla'),\n",
       " ('Artiodactyla', 'Artiodactyla'),\n",
       " ('Artiodactyla', 'Artiodactyla'),\n",
       " ('Artiodactyla', 'Artiodactyla'),\n",
       " ('Artiodactyla', 'Artiodactyla'),\n",
       " ('Artiodactyla', 'Artiodactyla'),\n",
       " ('Artiodactyla', 'Artiodactyla'),\n",
       " ('Artiodactyla', 'Artiodactyla'),\n",
       " ('Artiodactyla', 'Artiodactyla'),\n",
       " ('Artiodactyla', 'Artiodactyla'),\n",
       " ('Artiodactyla', 'Artiodactyla'),\n",
       " ('Artiodactyla', 'Artiodactyla'),\n",
       " ('Artiodactyla', 'Artiodactyla'),\n",
       " ('Artiodactyla', 'Artiodactyla'),\n",
       " ('Artiodactyla', 'Carnivora'),\n",
       " ('Artiodactyla', 'Carnivora'),\n",
       " ('Artiodactyla', 'Carnivora'),\n",
       " ('Artiodactyla', 'Carnivora'),\n",
       " ('Artiodactyla', 'Carnivora'),\n",
       " ('Artiodactyla', 'Carnivora'),\n",
       " ('Artiodactyla', 'Carnivora'),\n",
       " ('Artiodactyla', 'Carnivora'),\n",
       " ('Artiodactyla', 'Carnivora'),\n",
       " ('Artiodactyla', 'Carnivora'),\n",
       " ('Artiodactyla', 'Carnivora'),\n",
       " ('Artiodactyla', 'Carnivora'),\n",
       " ('Artiodactyla', 'Carnivora'),\n",
       " ('Artiodactyla', 'Carnivora'),\n",
       " ('Artiodactyla', 'Carnivora'),\n",
       " ('Artiodactyla', 'Carnivora'),\n",
       " ('Artiodactyla', 'Carnivora'),\n",
       " ('Artiodactyla', 'Carnivora'),\n",
       " ('Artiodactyla', 'Carnivora'),\n",
       " ('Artiodactyla', 'Carnivora'),\n",
       " ('Artiodactyla', 'Carnivora'),\n",
       " ('Artiodactyla', 'Carnivora'),\n",
       " ('Artiodactyla', 'Carnivora'),\n",
       " ('Artiodactyla', 'Carnivora'),\n",
       " ('Artiodactyla', 'Carnivora'),\n",
       " ('Artiodactyla', 'Carnivora'),\n",
       " ('Artiodactyla', 'Carnivora'),\n",
       " ('Artiodactyla', 'Carnivora'),\n",
       " ('Artiodactyla', 'Carnivora'),\n",
       " ('Artiodactyla', 'Carnivora'),\n",
       " ('Artiodactyla', 'Carnivora'),\n",
       " ('Artiodactyla', 'Carnivora'),\n",
       " ('Artiodactyla', 'Carnivora'),\n",
       " ('Artiodactyla', 'Carnivora'),\n",
       " ('Artiodactyla', 'Carnivora'),\n",
       " ('Artiodactyla', 'Carnivora'),\n",
       " ('Artiodactyla', 'Carnivora'),\n",
       " ('Artiodactyla', 'Carnivora'),\n",
       " ('Artiodactyla', 'Carnivora'),\n",
       " ('Artiodactyla', 'Carnivora'),\n",
       " ('Artiodactyla', 'Carnivora'),\n",
       " ('Artiodactyla', 'Carnivora'),\n",
       " ('Artiodactyla', 'Carnivora'),\n",
       " ('Artiodactyla', 'Carnivora'),\n",
       " ('Artiodactyla', 'Carnivora'),\n",
       " ('Artiodactyla', 'Carnivora'),\n",
       " ('Artiodactyla', 'Carnivora'),\n",
       " ('Artiodactyla', 'Carnivora'),\n",
       " ('Artiodactyla', 'Carnivora'),\n",
       " ('Artiodactyla', 'Carnivora'),\n",
       " ('Artiodactyla', 'Carnivora'),\n",
       " ('Artiodactyla', 'Carnivora'),\n",
       " ('Artiodactyla', 'Carnivora'),\n",
       " ('Artiodactyla', 'Carnivora'),\n",
       " ('Artiodactyla', 'Carnivora'),\n",
       " ('Artiodactyla', 'Carnivora'),\n",
       " ('Artiodactyla', 'Carnivora'),\n",
       " ('Artiodactyla', 'Carnivora'),\n",
       " ('Artiodactyla', 'Carnivora'),\n",
       " ('Artiodactyla', 'Carnivora'),\n",
       " ('Artiodactyla', 'Carnivora'),\n",
       " ('Artiodactyla', 'Carnivora'),\n",
       " ('Artiodactyla', 'Carnivora'),\n",
       " ('Artiodactyla', 'Carnivora')]"
      ]
     },
     "execution_count": 10,
     "metadata": {},
     "output_type": "execute_result"
    }
   ],
   "source": [
    "session.query(EA.sporder, NA.sporder).limit(100).all()"
   ]
  },
  {
   "cell_type": "code",
   "execution_count": 11,
   "metadata": {},
   "outputs": [
    {
     "name": "stdout",
     "output_type": "stream",
     "text": [
      "Artiodactyla\n",
      "Artiodactyla\n",
      "Artiodactyla\n",
      "Artiodactyla\n",
      "Artiodactyla\n",
      "Artiodactyla\n",
      "Artiodactyla\n",
      "Artiodactyla\n",
      "Artiodactyla\n",
      "Artiodactyla\n",
      "Artiodactyla\n",
      "Artiodactyla\n",
      "Artiodactyla\n",
      "Artiodactyla\n",
      "Artiodactyla\n",
      "Artiodactyla\n",
      "Artiodactyla\n",
      "Artiodactyla\n",
      "Artiodactyla\n",
      "Artiodactyla\n"
     ]
    }
   ],
   "source": [
    "same_sporder = session.query(EA, NA).filter(EA.sporder == NA.sporder).limit(10).all()\n",
    "\n",
    "\n",
    "for record in same_sporder:\n",
    "    (ea, na) = record\n",
    "    print(ea.sporder)\n",
    "    print(na.sporder)"
   ]
  },
  {
   "cell_type": "code",
   "execution_count": 12,
   "metadata": {},
   "outputs": [
    {
     "name": "stdout",
     "output_type": "stream",
     "text": [
      "The European animal 'Bovidae Antilope cervicapra'belongs to the same sporder as the North American animal 'Antilocapridae Antilocapra americana'.\n",
      "The European animal 'Bovidae Antilope cervicapra'belongs to the same sporder as the North American animal 'Antilocapridae Capromeryx mexicana'.\n",
      "The European animal 'Bovidae Antilope cervicapra'belongs to the same sporder as the North American animal 'Antilocapridae Capromeryx minor'.\n",
      "The European animal 'Bovidae Antilope cervicapra'belongs to the same sporder as the North American animal 'Antilocapridae Stockoceros conklingi'.\n",
      "The European animal 'Bovidae Antilope cervicapra'belongs to the same sporder as the North American animal 'Antilocapridae Stockoceros onusrosagris'.\n",
      "The European animal 'Bovidae Antilope cervicapra'belongs to the same sporder as the North American animal 'Antilocapridae Tetrameryx shuleri'.\n",
      "The European animal 'Bovidae Antilope cervicapra'belongs to the same sporder as the North American animal 'Bovidae Bison bison'.\n",
      "The European animal 'Bovidae Antilope cervicapra'belongs to the same sporder as the North American animal 'Bovidae Bison latifrons'.\n",
      "The European animal 'Bovidae Antilope cervicapra'belongs to the same sporder as the North American animal 'Bovidae Bison priscus'.\n",
      "The European animal 'Bovidae Antilope cervicapra'belongs to the same sporder as the North American animal 'Bovidae Bootherium bombifrons'.\n"
     ]
    }
   ],
   "source": [
    "# Return all animals from EA and NA belonging to the same sporder.\n",
    "# This JOINs the data in the two tables together into a single dataset (here in the form of a tuple).\n",
    "# Note: We are going to limit the results to 10 for printing\n",
    "sel = [EA.family, EA.genus, EA.species, NA.family, NA.genus, NA.species]\n",
    "same_sporder = session.query(*sel).filter(EA.sporder == NA.sporder).limit(10).all()\n",
    "\n",
    "for record in same_sporder:\n",
    "    (ea_fam, ea_gen, ea_spec, na_fam, na_gen, na_spec) = record\n",
    "    print(\n",
    "        f\"The European animal '{ea_fam} {ea_gen} {ea_spec}'\"\n",
    "        f\"belongs to the same sporder as the North American animal '{na_fam} {na_gen} {na_spec}'.\")"
   ]
  }
 ],
 "metadata": {
  "kernelspec": {
   "display_name": "Python 3",
   "language": "python",
   "name": "python3"
  },
  "language_info": {
   "codemirror_mode": {
    "name": "ipython",
    "version": 3
   },
   "file_extension": ".py",
   "mimetype": "text/x-python",
   "name": "python",
   "nbconvert_exporter": "python",
   "pygments_lexer": "ipython3",
   "version": "3.6.8"
  },
  "varInspector": {
   "cols": {
    "lenName": 16,
    "lenType": 16,
    "lenVar": 40
   },
   "kernels_config": {
    "python": {
     "delete_cmd_postfix": "",
     "delete_cmd_prefix": "del ",
     "library": "var_list.py",
     "varRefreshCmd": "print(var_dic_list())"
    },
    "r": {
     "delete_cmd_postfix": ") ",
     "delete_cmd_prefix": "rm(",
     "library": "var_list.r",
     "varRefreshCmd": "cat(var_dic_list()) "
    }
   },
   "types_to_exclude": [
    "module",
    "function",
    "builtin_function_or_method",
    "instance",
    "_Feature"
   ],
   "window_display": false
  }
 },
 "nbformat": 4,
 "nbformat_minor": 2
}
